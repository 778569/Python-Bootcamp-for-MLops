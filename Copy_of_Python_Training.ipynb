{
  "nbformat": 4,
  "nbformat_minor": 0,
  "metadata": {
    "colab": {
      "provenance": []
    },
    "kernelspec": {
      "name": "python3",
      "display_name": "Python 3"
    },
    "language_info": {
      "name": "python"
    }
  },
  "cells": [
    {
      "cell_type": "markdown",
      "source": [
        "# Python Traning"
      ],
      "metadata": {
        "id": "UCFFU_BSVTM7"
      }
    },
    {
      "cell_type": "markdown",
      "source": [
        "## Print the words"
      ],
      "metadata": {
        "id": "Hwvyk3iSVN91"
      }
    },
    {
      "cell_type": "code",
      "execution_count": null,
      "metadata": {
        "colab": {
          "base_uri": "https://localhost:8080/"
        },
        "id": "5stU29G_Re-3",
        "outputId": "119925f1-ba0e-4fe8-82d8-23b8d837732b"
      },
      "outputs": [
        {
          "output_type": "stream",
          "name": "stdout",
          "text": [
            "Hello world\n"
          ]
        }
      ],
      "source": [
        "print(\"Hello world\")"
      ]
    },
    {
      "cell_type": "markdown",
      "source": [
        "## Variables\n",
        "\n",
        "variables are containers storing the data values, which further referance and manupulate the value.\n",
        "\"=\" Assignment operator\n",
        "* variable name - start with letter or undersocer, can be alphanumeric, case sensitive, should not bes  reserved word\n",
        "\n",
        "* Literals are values used in Python.\n",
        "(Literals are constant values assigned to constant variables. Literals represent fixed values that cannot be modified.)\n",
        "* Types are - Numeric, Boolean,Collection,String and Special\n",
        "* And also can use Operators -\n",
        "\n",
        "Python divides the operators in the following groups:\n",
        "\n",
        "1. Arithmetic operators\n",
        "2. Assignment operators\n",
        "3. Comparison operators\n",
        "4. Logical operators\n",
        "5. Identity operators\n",
        "6. Membership operators\n",
        "7. Bitwise operators\n",
        "\n",
        "\n",
        "\n"
      ],
      "metadata": {
        "id": "ckWXiP33VjMN"
      }
    },
    {
      "cell_type": "markdown",
      "source": [
        "## Key words\n",
        "\n",
        "['False', 'None', 'True', 'and', 'as', 'assert', 'async', 'await', 'break', 'class', 'continue', 'def', 'del', 'elif', 'else', 'except', 'finally', 'for', 'from', 'global', 'if', 'import', 'in', 'is', 'lambda', 'nonlocal', 'not', 'or', 'pass', 'raise', 'return', 'try', 'while', 'with', 'yield']"
      ],
      "metadata": {
        "id": "2rB7uuR8ZAbL"
      }
    },
    {
      "cell_type": "code",
      "source": [
        "import keyword\n",
        "print(keyword.kwlist)"
      ],
      "metadata": {
        "colab": {
          "base_uri": "https://localhost:8080/"
        },
        "id": "XpqrzSEwVNBU",
        "outputId": "7db5a62a-c2e4-4396-de25-4b739e7ad8a1"
      },
      "execution_count": null,
      "outputs": [
        {
          "output_type": "stream",
          "name": "stdout",
          "text": [
            "['False', 'None', 'True', 'and', 'as', 'assert', 'async', 'await', 'break', 'class', 'continue', 'def', 'del', 'elif', 'else', 'except', 'finally', 'for', 'from', 'global', 'if', 'import', 'in', 'is', 'lambda', 'nonlocal', 'not', 'or', 'pass', 'raise', 'return', 'try', 'while', 'with', 'yield']\n"
          ]
        }
      ]
    },
    {
      "cell_type": "markdown",
      "source": [
        "## Comment python"
      ],
      "metadata": {
        "id": "HKd4oRoMKP5A"
      }
    },
    {
      "cell_type": "code",
      "source": [
        "# This is comment"
      ],
      "metadata": {
        "id": "n1mzal3vKSVN"
      },
      "execution_count": null,
      "outputs": []
    },
    {
      "cell_type": "markdown",
      "source": [
        "## Literals\n",
        "\n",
        "* numaric - interger(0,-32,500), float(20.01,0.0,-25.36,1.0), complex(1 + 2j)"
      ],
      "metadata": {
        "id": "XtlZ_UcIL2Bi"
      }
    },
    {
      "cell_type": "code",
      "source": [
        "x= 50\n",
        "print(type(x))\n",
        "\n",
        "y= 1.0\n",
        "print(type(y))\n",
        "\n",
        "z= 1 + 2j\n",
        "print(type(z))"
      ],
      "metadata": {
        "colab": {
          "base_uri": "https://localhost:8080/"
        },
        "id": "twpbSHuJKVQw",
        "outputId": "f0f8a152-46bb-41cd-fbbb-ff90d5e1c2af"
      },
      "execution_count": null,
      "outputs": [
        {
          "output_type": "stream",
          "name": "stdout",
          "text": [
            "<class 'int'>\n",
            "<class 'float'>\n",
            "<class 'complex'>\n"
          ]
        }
      ]
    },
    {
      "cell_type": "code",
      "source": [
        "i= True\n",
        "j = False\n",
        "\n",
        "print(type(i))"
      ],
      "metadata": {
        "colab": {
          "base_uri": "https://localhost:8080/"
        },
        "id": "EwoJ5Ei-SfD4",
        "outputId": "ebb5723d-447e-48e8-cf48-55e93fe95ce7"
      },
      "execution_count": null,
      "outputs": [
        {
          "output_type": "stream",
          "name": "stdout",
          "text": [
            "<class 'bool'>\n"
          ]
        }
      ]
    },
    {
      "cell_type": "markdown",
      "source": [
        "Staring can be define as a collection of charactors inside the single quotes"
      ],
      "metadata": {
        "id": "rQw2dJQhSxzb"
      }
    },
    {
      "cell_type": "code",
      "source": [
        "x = 'Hello'\n",
        "y=\"Hi\"\n",
        "z = '''String'''\n",
        "m= \"\"\"String\"\"\""
      ],
      "metadata": {
        "id": "qwQyjsAETABl"
      },
      "execution_count": null,
      "outputs": []
    },
    {
      "cell_type": "code",
      "source": [
        "print(type(x))\n",
        "print(type(y))\n",
        "print(type(z))\n",
        "print(type(m))\n"
      ],
      "metadata": {
        "colab": {
          "base_uri": "https://localhost:8080/"
        },
        "id": "7oQlK7IlWvLr",
        "outputId": "92cab92d-d162-4dbc-85c1-e1ad415e0c5f"
      },
      "execution_count": null,
      "outputs": [
        {
          "output_type": "stream",
          "name": "stdout",
          "text": [
            "<class 'str'>\n",
            "<class 'str'>\n",
            "<class 'str'>\n",
            "<class 'str'>\n"
          ]
        }
      ]
    },
    {
      "cell_type": "markdown",
      "source": [
        "## COLLECTION\n",
        "\n",
        "\n",
        "*   Python list\n",
        "*   Python Tuples\n",
        "* Python Dictionary\n",
        "* Python Sets\n",
        "\n"
      ],
      "metadata": {
        "id": "m7Wl1kEIoXOx"
      }
    },
    {
      "cell_type": "markdown",
      "source": [
        "## Python Arithmetic Operators\n",
        "\n",
        "Arithmetic operators are used with numeric values to perform common mathematical operations:"
      ],
      "metadata": {
        "id": "QohoklM976S8"
      }
    },
    {
      "cell_type": "code",
      "source": [
        "x = 5\n",
        "y = 3\n",
        "\n",
        "print(x + y)\n"
      ],
      "metadata": {
        "colab": {
          "base_uri": "https://localhost:8080/"
        },
        "id": "1Bh1wY7CXko7",
        "outputId": "7874d8b3-65c9-48b2-9a57-fb3deaae07f5"
      },
      "execution_count": null,
      "outputs": [
        {
          "output_type": "stream",
          "name": "stdout",
          "text": [
            "8\n"
          ]
        }
      ]
    },
    {
      "cell_type": "code",
      "source": [
        "print(x%y)"
      ],
      "metadata": {
        "colab": {
          "base_uri": "https://localhost:8080/"
        },
        "id": "z3u8h4w28PXN",
        "outputId": "7b4878b9-1ced-4fee-bcca-bf9a636ad6dd"
      },
      "execution_count": null,
      "outputs": [
        {
          "output_type": "stream",
          "name": "stdout",
          "text": [
            "2\n"
          ]
        }
      ]
    },
    {
      "cell_type": "markdown",
      "source": [
        "## Python Assignment Operators\n",
        "\n",
        "Assignment operators are used to assign values to variables:"
      ],
      "metadata": {
        "id": "IxFlAKkI90bh"
      }
    },
    {
      "cell_type": "code",
      "source": [
        "x = 5\n",
        "\n",
        "print(x)\n"
      ],
      "metadata": {
        "colab": {
          "base_uri": "https://localhost:8080/"
        },
        "id": "iVQrafOf8Yud",
        "outputId": "f394fd2d-2661-429b-ff41-997b1c04ef09"
      },
      "execution_count": null,
      "outputs": [
        {
          "output_type": "stream",
          "name": "stdout",
          "text": [
            "5\n"
          ]
        }
      ]
    },
    {
      "cell_type": "code",
      "source": [
        "x = 5\n",
        "\n",
        "x ^= 3\n",
        "\n",
        "print(x)"
      ],
      "metadata": {
        "colab": {
          "base_uri": "https://localhost:8080/"
        },
        "id": "v6R0mckV-JV5",
        "outputId": "ff201c24-d876-4eea-d078-e15de063d756"
      },
      "execution_count": null,
      "outputs": [
        {
          "output_type": "stream",
          "name": "stdout",
          "text": [
            "6\n"
          ]
        }
      ]
    },
    {
      "cell_type": "markdown",
      "source": [
        "## Python Comparison Operators\n",
        "Comparison operators are used to compare two values:"
      ],
      "metadata": {
        "id": "xwlTxkbCAEc6"
      }
    },
    {
      "cell_type": "code",
      "source": [
        "x = 5\n",
        "y = 3\n",
        "\n",
        "print(x == y)"
      ],
      "metadata": {
        "colab": {
          "base_uri": "https://localhost:8080/"
        },
        "id": "jNCCv6L9AJa3",
        "outputId": "6889e5a1-9e51-49c8-ec8c-cdc8ce50d594"
      },
      "execution_count": null,
      "outputs": [
        {
          "output_type": "stream",
          "name": "stdout",
          "text": [
            "False\n"
          ]
        }
      ]
    },
    {
      "cell_type": "code",
      "source": [
        "x = 5\n",
        "y = 3\n",
        "\n",
        "print(x >= y)"
      ],
      "metadata": {
        "colab": {
          "base_uri": "https://localhost:8080/"
        },
        "id": "63ZFiRDiCC5R",
        "outputId": "b1535613-d513-4b28-f2fe-515a672a3fca"
      },
      "execution_count": null,
      "outputs": [
        {
          "output_type": "stream",
          "name": "stdout",
          "text": [
            "True\n"
          ]
        }
      ]
    },
    {
      "cell_type": "markdown",
      "source": [
        "## Python Logical Operators\n",
        "\n",
        "Logical operators are used to combine conditional statements:"
      ],
      "metadata": {
        "id": "fXdomkx_CH6k"
      }
    },
    {
      "cell_type": "code",
      "source": [
        "x = 5\n",
        "\n",
        "print(x > 3 and x < 10)"
      ],
      "metadata": {
        "colab": {
          "base_uri": "https://localhost:8080/"
        },
        "id": "qmUPhhBDCOYT",
        "outputId": "3d9e1784-61d0-42a8-f3ad-ccb2cde5f434"
      },
      "execution_count": null,
      "outputs": [
        {
          "output_type": "stream",
          "name": "stdout",
          "text": [
            "True\n"
          ]
        }
      ]
    },
    {
      "cell_type": "code",
      "source": [
        "x = 5\n",
        "\n",
        "print(not(x > 3 and x < 10))"
      ],
      "metadata": {
        "colab": {
          "base_uri": "https://localhost:8080/"
        },
        "id": "z7awaq7WCXVC",
        "outputId": "0a1907b3-d823-4184-91ee-92c8cb3dc60d"
      },
      "execution_count": null,
      "outputs": [
        {
          "output_type": "stream",
          "name": "stdout",
          "text": [
            "False\n"
          ]
        }
      ]
    },
    {
      "cell_type": "markdown",
      "source": [
        "## Python Identity Operators\n",
        "\n",
        "Identity operators are used to compare the objects, not if they are equal, but if they are actually the same object, with the same memory location:"
      ],
      "metadata": {
        "id": "FiQ9q3LNCqd0"
      }
    },
    {
      "cell_type": "code",
      "source": [
        "x = [\"apple\", \"banana\"]\n",
        "y = [\"apple\", \"banana\"]\n",
        "z = x\n",
        "\n",
        "print(x is z)\n",
        "# returns True because z is the same object as x"
      ],
      "metadata": {
        "colab": {
          "base_uri": "https://localhost:8080/"
        },
        "id": "-dbqQKXtCvtl",
        "outputId": "568fb9d1-362d-453b-bcd7-c254c6281436"
      },
      "execution_count": null,
      "outputs": [
        {
          "output_type": "stream",
          "name": "stdout",
          "text": [
            "True\n"
          ]
        }
      ]
    },
    {
      "cell_type": "code",
      "source": [
        "print(x is y)\n",
        "# returns False because x is not the same object as y, even if they have the same content"
      ],
      "metadata": {
        "colab": {
          "base_uri": "https://localhost:8080/"
        },
        "id": "FccA7uYPC72o",
        "outputId": "b4c1b1a7-a2fc-4efb-d648-9480b2e9e4e8"
      },
      "execution_count": null,
      "outputs": [
        {
          "output_type": "stream",
          "name": "stdout",
          "text": [
            "False\n"
          ]
        }
      ]
    },
    {
      "cell_type": "code",
      "source": [
        "print(x is not z)"
      ],
      "metadata": {
        "colab": {
          "base_uri": "https://localhost:8080/"
        },
        "id": "r3QVZ828DdR0",
        "outputId": "4ead7fd0-4cca-40aa-bc8a-fba817867441"
      },
      "execution_count": null,
      "outputs": [
        {
          "output_type": "stream",
          "name": "stdout",
          "text": [
            "False\n"
          ]
        }
      ]
    },
    {
      "cell_type": "markdown",
      "source": [
        "## Python Membership Operators\n",
        "\n",
        "Membership operators are used to test if a sequence is presented in an object:"
      ],
      "metadata": {
        "id": "FO3V0ME5EDNz"
      }
    },
    {
      "cell_type": "code",
      "source": [
        "x = [\"apple\", \"banana\"]\n",
        "\n",
        "print(\"banana\" in x)"
      ],
      "metadata": {
        "colab": {
          "base_uri": "https://localhost:8080/"
        },
        "id": "GSse6Ld0ElMT",
        "outputId": "97ddaaec-9c96-42fe-84bb-97f308aec952"
      },
      "execution_count": null,
      "outputs": [
        {
          "output_type": "stream",
          "name": "stdout",
          "text": [
            "True\n"
          ]
        }
      ]
    },
    {
      "cell_type": "code",
      "source": [
        "x = [\"apple\", \"banana\"]\n",
        "\n",
        "print(\"banana\" not in x)"
      ],
      "metadata": {
        "colab": {
          "base_uri": "https://localhost:8080/"
        },
        "id": "JqoYyIpaEtVv",
        "outputId": "b05ba42f-f0ed-46d3-bd35-6fa6d1f9d5b2"
      },
      "execution_count": null,
      "outputs": [
        {
          "output_type": "stream",
          "name": "stdout",
          "text": [
            "False\n"
          ]
        }
      ]
    },
    {
      "cell_type": "code",
      "source": [
        "x = [\"apple\", \"banana\"]\n",
        "\n",
        "print(\"graps\" not in x)"
      ],
      "metadata": {
        "colab": {
          "base_uri": "https://localhost:8080/"
        },
        "id": "VFHRJ_-XEyBX",
        "outputId": "bc461f56-b483-4882-d5ca-23af356c2efb"
      },
      "execution_count": null,
      "outputs": [
        {
          "output_type": "stream",
          "name": "stdout",
          "text": [
            "True\n"
          ]
        }
      ]
    },
    {
      "cell_type": "markdown",
      "source": [
        "## Strings\n",
        "\n",
        "collection of characters\n",
        "\n",
        "common operators\n",
        "\n",
        "\n",
        "*   Concatenation\n",
        "*   Repetition\n",
        "*   Membership operation\n",
        "*   Length\n",
        "*   Indexing\n",
        "*   Slicing\n",
        "\n",
        "\n"
      ],
      "metadata": {
        "id": "X9rIA6jhJXnO"
      }
    },
    {
      "cell_type": "code",
      "source": [
        "#Using single line string\n",
        "# a = 'hello\n",
        "# world'\n",
        "##Error\n",
        "\n",
        "#Using multiline string\n",
        "\n",
        "a = ''' hello\n",
        "world'''\n",
        "print(a)\n"
      ],
      "metadata": {
        "colab": {
          "base_uri": "https://localhost:8080/"
        },
        "id": "s09MgqZCJfXc",
        "outputId": "54cfa759-d0e5-457a-d777-c5e35933c5e9"
      },
      "execution_count": null,
      "outputs": [
        {
          "output_type": "stream",
          "name": "stdout",
          "text": [
            " hello\n",
            "world\n"
          ]
        }
      ]
    },
    {
      "cell_type": "code",
      "source": [
        "x='mlops'\n",
        "y= 'learing'\n",
        "\n",
        "#Concatination\n",
        "x+y"
      ],
      "metadata": {
        "colab": {
          "base_uri": "https://localhost:8080/",
          "height": 35
        },
        "id": "GYWXoACZOsf6",
        "outputId": "6848c4d3-ac45-4425-8a08-e7c9eb981417"
      },
      "execution_count": null,
      "outputs": [
        {
          "output_type": "execute_result",
          "data": {
            "text/plain": [
              "'mlopslearing'"
            ],
            "application/vnd.google.colaboratory.intrinsic+json": {
              "type": "string"
            }
          },
          "metadata": {},
          "execution_count": 23
        }
      ]
    },
    {
      "cell_type": "code",
      "source": [
        "x*3"
      ],
      "metadata": {
        "colab": {
          "base_uri": "https://localhost:8080/",
          "height": 35
        },
        "id": "Fi1S-vKwO9Vt",
        "outputId": "77dda3da-e2c9-4a86-9680-25fd70c80b39"
      },
      "execution_count": null,
      "outputs": [
        {
          "output_type": "execute_result",
          "data": {
            "text/plain": [
              "'mlopsmlopsmlops'"
            ],
            "application/vnd.google.colaboratory.intrinsic+json": {
              "type": "string"
            }
          },
          "metadata": {},
          "execution_count": 24
        }
      ]
    },
    {
      "cell_type": "code",
      "source": [
        "#membership operations\n",
        "\n",
        "'mlops' in x"
      ],
      "metadata": {
        "colab": {
          "base_uri": "https://localhost:8080/"
        },
        "id": "06tgLJYEPH28",
        "outputId": "19ac16ef-d049-4731-f158-1704014c8866"
      },
      "execution_count": null,
      "outputs": [
        {
          "output_type": "execute_result",
          "data": {
            "text/plain": [
              "True"
            ]
          },
          "metadata": {},
          "execution_count": 25
        }
      ]
    },
    {
      "cell_type": "code",
      "source": [
        "'mlops' not in x"
      ],
      "metadata": {
        "colab": {
          "base_uri": "https://localhost:8080/"
        },
        "id": "OdWAIqMAPUNb",
        "outputId": "e62d7f64-b6fb-484f-97bf-a4a6d5322fd9"
      },
      "execution_count": null,
      "outputs": [
        {
          "output_type": "execute_result",
          "data": {
            "text/plain": [
              "False"
            ]
          },
          "metadata": {},
          "execution_count": 26
        }
      ]
    },
    {
      "cell_type": "code",
      "source": [
        "len(x)"
      ],
      "metadata": {
        "colab": {
          "base_uri": "https://localhost:8080/"
        },
        "id": "IchAV-8dPaWj",
        "outputId": "ac8929c7-5e6d-48d9-e3b4-48fc6ba63b0d"
      },
      "execution_count": null,
      "outputs": [
        {
          "output_type": "execute_result",
          "data": {
            "text/plain": [
              "5"
            ]
          },
          "metadata": {},
          "execution_count": 27
        }
      ]
    },
    {
      "cell_type": "code",
      "source": [
        "#indexing\n",
        "\n",
        "a = 'hello there, I am your teacher'\n",
        "\n",
        "a[0]"
      ],
      "metadata": {
        "colab": {
          "base_uri": "https://localhost:8080/",
          "height": 35
        },
        "id": "WUP6oaURP43O",
        "outputId": "f13f77a0-afbc-4ab1-ae4b-a9701840eaf9"
      },
      "execution_count": null,
      "outputs": [
        {
          "output_type": "execute_result",
          "data": {
            "text/plain": [
              "'h'"
            ],
            "application/vnd.google.colaboratory.intrinsic+json": {
              "type": "string"
            }
          },
          "metadata": {},
          "execution_count": 28
        }
      ]
    },
    {
      "cell_type": "code",
      "source": [
        "a[5]"
      ],
      "metadata": {
        "colab": {
          "base_uri": "https://localhost:8080/",
          "height": 35
        },
        "id": "7h-qkT_nQJhG",
        "outputId": "e16832a5-404f-4bc9-fae8-a26e8aa2e080"
      },
      "execution_count": null,
      "outputs": [
        {
          "output_type": "execute_result",
          "data": {
            "text/plain": [
              "' '"
            ],
            "application/vnd.google.colaboratory.intrinsic+json": {
              "type": "string"
            }
          },
          "metadata": {},
          "execution_count": 29
        }
      ]
    },
    {
      "cell_type": "code",
      "source": [
        "# Slicing - getting the subset\n",
        "a[1:5]"
      ],
      "metadata": {
        "colab": {
          "base_uri": "https://localhost:8080/",
          "height": 35
        },
        "id": "PKpbt6oaQYv4",
        "outputId": "edc1c4f9-5ba8-4bd7-cf09-ca9b810f3569"
      },
      "execution_count": null,
      "outputs": [
        {
          "output_type": "execute_result",
          "data": {
            "text/plain": [
              "'ello'"
            ],
            "application/vnd.google.colaboratory.intrinsic+json": {
              "type": "string"
            }
          },
          "metadata": {},
          "execution_count": 30
        }
      ]
    },
    {
      "cell_type": "code",
      "source": [
        "a[:5]"
      ],
      "metadata": {
        "colab": {
          "base_uri": "https://localhost:8080/",
          "height": 35
        },
        "id": "rYoIF1YUYvCO",
        "outputId": "d404f6ca-b873-48b4-b32d-8144c27c8058"
      },
      "execution_count": null,
      "outputs": [
        {
          "output_type": "execute_result",
          "data": {
            "text/plain": [
              "'hello'"
            ],
            "application/vnd.google.colaboratory.intrinsic+json": {
              "type": "string"
            }
          },
          "metadata": {},
          "execution_count": 31
        }
      ]
    },
    {
      "cell_type": "markdown",
      "source": [
        "### Special Functions of string"
      ],
      "metadata": {
        "id": "BgywcN-Yczyu"
      }
    },
    {
      "cell_type": "code",
      "source": [
        "a.capitalize()"
      ],
      "metadata": {
        "colab": {
          "base_uri": "https://localhost:8080/",
          "height": 35
        },
        "id": "SbzJjyA6c6hU",
        "outputId": "9c169499-ca12-4a0e-e711-1ea7bb71d299"
      },
      "execution_count": null,
      "outputs": [
        {
          "output_type": "execute_result",
          "data": {
            "text/plain": [
              "'Hello there, i am your teacher'"
            ],
            "application/vnd.google.colaboratory.intrinsic+json": {
              "type": "string"
            }
          },
          "metadata": {},
          "execution_count": 32
        }
      ]
    },
    {
      "cell_type": "code",
      "source": [
        "a.isalnum()"
      ],
      "metadata": {
        "colab": {
          "base_uri": "https://localhost:8080/"
        },
        "id": "zpEW1a5KdRbo",
        "outputId": "874f8634-c376-497f-c4ce-81b086b76cbc"
      },
      "execution_count": null,
      "outputs": [
        {
          "output_type": "execute_result",
          "data": {
            "text/plain": [
              "False"
            ]
          },
          "metadata": {},
          "execution_count": 33
        }
      ]
    },
    {
      "cell_type": "code",
      "source": [
        "b= \"Welcome@123\"\n",
        "b.isalnum()"
      ],
      "metadata": {
        "colab": {
          "base_uri": "https://localhost:8080/"
        },
        "id": "uqeM7vg0dg-l",
        "outputId": "7e90622f-7cbf-49c8-86c5-869ccf6ba1e9"
      },
      "execution_count": null,
      "outputs": [
        {
          "output_type": "execute_result",
          "data": {
            "text/plain": [
              "False"
            ]
          },
          "metadata": {},
          "execution_count": 34
        }
      ]
    },
    {
      "cell_type": "code",
      "source": [
        "b.upper()"
      ],
      "metadata": {
        "colab": {
          "base_uri": "https://localhost:8080/",
          "height": 35
        },
        "id": "SgglAlH0qFRh",
        "outputId": "afbc6757-2896-4400-84f6-7e8008366909"
      },
      "execution_count": null,
      "outputs": [
        {
          "output_type": "execute_result",
          "data": {
            "text/plain": [
              "'WELCOME@123'"
            ],
            "application/vnd.google.colaboratory.intrinsic+json": {
              "type": "string"
            }
          },
          "metadata": {},
          "execution_count": 35
        }
      ]
    },
    {
      "cell_type": "code",
      "source": [
        "#strip\n",
        "a= \"      welcome   next   \"\n",
        "print(a)"
      ],
      "metadata": {
        "colab": {
          "base_uri": "https://localhost:8080/"
        },
        "id": "mrafG02irffd",
        "outputId": "c8c050b8-e3e5-47fc-cc54-aa4e14c61b6c"
      },
      "execution_count": null,
      "outputs": [
        {
          "output_type": "stream",
          "name": "stdout",
          "text": [
            "      welcome   next   \n"
          ]
        }
      ]
    },
    {
      "cell_type": "code",
      "source": [
        "a.strip()\n",
        "# Blank spaces at start and end"
      ],
      "metadata": {
        "colab": {
          "base_uri": "https://localhost:8080/",
          "height": 35
        },
        "id": "UzO01irprpBJ",
        "outputId": "c3d6b436-bee6-4535-f991-0649e9c73d80"
      },
      "execution_count": null,
      "outputs": [
        {
          "output_type": "execute_result",
          "data": {
            "text/plain": [
              "'welcome   next'"
            ],
            "application/vnd.google.colaboratory.intrinsic+json": {
              "type": "string"
            }
          },
          "metadata": {},
          "execution_count": 37
        }
      ]
    },
    {
      "cell_type": "markdown",
      "source": [
        "## List\n",
        "\n",
        "Python Lists are just like the arrays, declared in other languages which is an ordered collection of data. It is very flexible as the items in a list do not need to be of the same type.\n",
        "\n"
      ],
      "metadata": {
        "id": "URW8VSMzsu98"
      }
    },
    {
      "cell_type": "code",
      "source": [
        "x=[20,30,'hello','welcome',12.25]\n",
        "print(x)"
      ],
      "metadata": {
        "colab": {
          "base_uri": "https://localhost:8080/"
        },
        "id": "tupx9dOas77n",
        "outputId": "9c791f1f-6103-433c-e2f6-5c481260bf42"
      },
      "execution_count": null,
      "outputs": [
        {
          "output_type": "stream",
          "name": "stdout",
          "text": [
            "[20, 30, 'hello', 'welcome', 12.25]\n"
          ]
        }
      ]
    },
    {
      "cell_type": "code",
      "source": [
        "print(type(x))"
      ],
      "metadata": {
        "colab": {
          "base_uri": "https://localhost:8080/"
        },
        "id": "SKISMt8b--up",
        "outputId": "d261c4b6-6dbb-452f-dff6-bc41f38aa9ac"
      },
      "execution_count": null,
      "outputs": [
        {
          "output_type": "stream",
          "name": "stdout",
          "text": [
            "<class 'list'>\n"
          ]
        }
      ]
    },
    {
      "cell_type": "code",
      "source": [
        "x= [10,20]\n",
        "y=['hello','kavinda']\n",
        "\n",
        "x+y"
      ],
      "metadata": {
        "colab": {
          "base_uri": "https://localhost:8080/"
        },
        "id": "TOxJJqE0AsPw",
        "outputId": "e95a0e6f-69d2-4074-9f65-cbe917cf248e"
      },
      "execution_count": null,
      "outputs": [
        {
          "output_type": "execute_result",
          "data": {
            "text/plain": [
              "[10, 20, 'hello', 'kavinda']"
            ]
          },
          "metadata": {},
          "execution_count": 40
        }
      ]
    },
    {
      "cell_type": "code",
      "source": [
        "x*2"
      ],
      "metadata": {
        "colab": {
          "base_uri": "https://localhost:8080/"
        },
        "id": "I-_dwWEMA3Gf",
        "outputId": "d723e139-1392-45ab-dded-b8aefbc1655d"
      },
      "execution_count": null,
      "outputs": [
        {
          "output_type": "execute_result",
          "data": {
            "text/plain": [
              "[10, 20, 10, 20]"
            ]
          },
          "metadata": {},
          "execution_count": 41
        }
      ]
    },
    {
      "cell_type": "code",
      "source": [
        "10 in x"
      ],
      "metadata": {
        "colab": {
          "base_uri": "https://localhost:8080/"
        },
        "id": "8TxOEW29A4WI",
        "outputId": "ab70e9b2-a81d-4fd6-adb7-c4a759d9fba1"
      },
      "execution_count": null,
      "outputs": [
        {
          "output_type": "execute_result",
          "data": {
            "text/plain": [
              "True"
            ]
          },
          "metadata": {},
          "execution_count": 42
        }
      ]
    },
    {
      "cell_type": "code",
      "source": [
        "'bool' not in y"
      ],
      "metadata": {
        "colab": {
          "base_uri": "https://localhost:8080/"
        },
        "id": "7JtM9NUNA-Ox",
        "outputId": "54d76aa6-f936-4443-bc5e-b173cb3d3a3a"
      },
      "execution_count": null,
      "outputs": [
        {
          "output_type": "execute_result",
          "data": {
            "text/plain": [
              "True"
            ]
          },
          "metadata": {},
          "execution_count": 43
        }
      ]
    },
    {
      "cell_type": "code",
      "source": [
        "x=[20,30,'hello','welcome',12.25]\n",
        "len(x)"
      ],
      "metadata": {
        "colab": {
          "base_uri": "https://localhost:8080/"
        },
        "id": "JJrd1HfgBA4I",
        "outputId": "e30e2ff1-f89c-4556-f756-2e579efca360"
      },
      "execution_count": null,
      "outputs": [
        {
          "output_type": "execute_result",
          "data": {
            "text/plain": [
              "5"
            ]
          },
          "metadata": {},
          "execution_count": 44
        }
      ]
    },
    {
      "cell_type": "code",
      "source": [
        "x[0]"
      ],
      "metadata": {
        "colab": {
          "base_uri": "https://localhost:8080/"
        },
        "id": "jPArpuYqBGgS",
        "outputId": "09a55fd8-3904-42a8-f96a-0d6e89c1ad8c"
      },
      "execution_count": null,
      "outputs": [
        {
          "output_type": "execute_result",
          "data": {
            "text/plain": [
              "20"
            ]
          },
          "metadata": {},
          "execution_count": 45
        }
      ]
    },
    {
      "cell_type": "code",
      "source": [
        "# x[30]"
      ],
      "metadata": {
        "id": "EroZEJP-BXWJ"
      },
      "execution_count": null,
      "outputs": []
    },
    {
      "cell_type": "code",
      "source": [
        "x[:2]"
      ],
      "metadata": {
        "colab": {
          "base_uri": "https://localhost:8080/"
        },
        "id": "UM7EyN1OBb8a",
        "outputId": "e4160ac9-4445-4639-e1f1-32fc98cb70ee"
      },
      "execution_count": null,
      "outputs": [
        {
          "output_type": "execute_result",
          "data": {
            "text/plain": [
              "[20, 30]"
            ]
          },
          "metadata": {},
          "execution_count": 47
        }
      ]
    },
    {
      "cell_type": "code",
      "source": [
        "x[1]= 'baby'\n",
        "print(x)"
      ],
      "metadata": {
        "colab": {
          "base_uri": "https://localhost:8080/"
        },
        "id": "6winCf30BfRB",
        "outputId": "354a9dcc-d5d6-42c3-ddf6-1e826cc5fb63"
      },
      "execution_count": null,
      "outputs": [
        {
          "output_type": "stream",
          "name": "stdout",
          "text": [
            "[20, 'baby', 'hello', 'welcome', 12.25]\n"
          ]
        }
      ]
    },
    {
      "cell_type": "markdown",
      "source": [
        "## Build in function list"
      ],
      "metadata": {
        "id": "0guTWXSGCEJ9"
      }
    },
    {
      "cell_type": "code",
      "source": [
        "x.append(900)\n",
        "print(x)"
      ],
      "metadata": {
        "colab": {
          "base_uri": "https://localhost:8080/"
        },
        "id": "SQp75nuVCCSZ",
        "outputId": "336ef580-fe37-413c-826e-83292d320f9e"
      },
      "execution_count": null,
      "outputs": [
        {
          "output_type": "stream",
          "name": "stdout",
          "text": [
            "[20, 'baby', 'hello', 'welcome', 12.25, 900]\n"
          ]
        }
      ]
    },
    {
      "cell_type": "code",
      "source": [
        "x.remove(12.25)\n",
        "print(x)"
      ],
      "metadata": {
        "colab": {
          "base_uri": "https://localhost:8080/"
        },
        "id": "cvSgozHMCUjy",
        "outputId": "580e5a1f-8c20-4afd-c43a-e6d4fd825470"
      },
      "execution_count": null,
      "outputs": [
        {
          "output_type": "stream",
          "name": "stdout",
          "text": [
            "[20, 'baby', 'hello', 'welcome', 900]\n"
          ]
        }
      ]
    },
    {
      "cell_type": "code",
      "source": [
        "x.insert(0,40)\n",
        "print(x)"
      ],
      "metadata": {
        "colab": {
          "base_uri": "https://localhost:8080/"
        },
        "id": "xQfseFDGChYi",
        "outputId": "dbc0629f-622d-4680-b86b-03aae901b77b"
      },
      "execution_count": null,
      "outputs": [
        {
          "output_type": "stream",
          "name": "stdout",
          "text": [
            "[40, 20, 'baby', 'hello', 'welcome', 900]\n"
          ]
        }
      ]
    },
    {
      "cell_type": "markdown",
      "source": [
        "## Tuples\n",
        "\n",
        "Tuples are immutable\n",
        "using ()"
      ],
      "metadata": {
        "id": "rYzrZpnGDTR6"
      }
    },
    {
      "cell_type": "code",
      "source": [
        "x = (10,20,'hello','bye')\n"
      ],
      "metadata": {
        "id": "kSs-CN-hDfuM"
      },
      "execution_count": null,
      "outputs": []
    },
    {
      "cell_type": "code",
      "source": [
        "x[0]"
      ],
      "metadata": {
        "colab": {
          "base_uri": "https://localhost:8080/"
        },
        "id": "R7XvDD68FIcw",
        "outputId": "ddbfccc3-245e-4d7b-bc92-783e41c67653"
      },
      "execution_count": null,
      "outputs": [
        {
          "output_type": "execute_result",
          "data": {
            "text/plain": [
              "10"
            ]
          },
          "metadata": {},
          "execution_count": 53
        }
      ]
    },
    {
      "cell_type": "code",
      "source": [
        "x+x"
      ],
      "metadata": {
        "colab": {
          "base_uri": "https://localhost:8080/"
        },
        "id": "YoQ-2zyFFMLS",
        "outputId": "c742bd0e-f0c7-4bf4-feb4-33eee5e12914"
      },
      "execution_count": null,
      "outputs": [
        {
          "output_type": "execute_result",
          "data": {
            "text/plain": [
              "(10, 20, 'hello', 'bye', 10, 20, 'hello', 'bye')"
            ]
          },
          "metadata": {},
          "execution_count": 54
        }
      ]
    },
    {
      "cell_type": "code",
      "source": [
        "x*2"
      ],
      "metadata": {
        "colab": {
          "base_uri": "https://localhost:8080/"
        },
        "id": "CNL2b7KVFOJZ",
        "outputId": "9e25809e-1016-45e6-e914-a5a0dc17a4f5"
      },
      "execution_count": null,
      "outputs": [
        {
          "output_type": "execute_result",
          "data": {
            "text/plain": [
              "(10, 20, 'hello', 'bye', 10, 20, 'hello', 'bye')"
            ]
          },
          "metadata": {},
          "execution_count": 55
        }
      ]
    },
    {
      "cell_type": "code",
      "source": [
        "'hello' in x"
      ],
      "metadata": {
        "colab": {
          "base_uri": "https://localhost:8080/"
        },
        "id": "xh0pfMfLFQNR",
        "outputId": "be819f9c-1534-4743-ea59-19eff55cae2d"
      },
      "execution_count": null,
      "outputs": [
        {
          "output_type": "execute_result",
          "data": {
            "text/plain": [
              "True"
            ]
          },
          "metadata": {},
          "execution_count": 56
        }
      ]
    },
    {
      "cell_type": "code",
      "source": [
        "20 not in x"
      ],
      "metadata": {
        "colab": {
          "base_uri": "https://localhost:8080/"
        },
        "id": "0pp3GUphFa4C",
        "outputId": "de3e570d-6e90-494f-cfca-c0c13ae79993"
      },
      "execution_count": null,
      "outputs": [
        {
          "output_type": "execute_result",
          "data": {
            "text/plain": [
              "False"
            ]
          },
          "metadata": {},
          "execution_count": 57
        }
      ]
    },
    {
      "cell_type": "code",
      "source": [
        "len(x)"
      ],
      "metadata": {
        "colab": {
          "base_uri": "https://localhost:8080/"
        },
        "id": "KjROfPAjFjiZ",
        "outputId": "1ac0d65d-6795-4557-ec9e-e4a1c2ed7904"
      },
      "execution_count": null,
      "outputs": [
        {
          "output_type": "execute_result",
          "data": {
            "text/plain": [
              "4"
            ]
          },
          "metadata": {},
          "execution_count": 58
        }
      ]
    },
    {
      "cell_type": "code",
      "source": [
        "x[1:3]"
      ],
      "metadata": {
        "colab": {
          "base_uri": "https://localhost:8080/"
        },
        "id": "Jadh-burFmr4",
        "outputId": "3b7d440a-c3af-45dc-82d4-4a8df735cf08"
      },
      "execution_count": null,
      "outputs": [
        {
          "output_type": "execute_result",
          "data": {
            "text/plain": [
              "(20, 'hello')"
            ]
          },
          "metadata": {},
          "execution_count": 59
        }
      ]
    },
    {
      "cell_type": "markdown",
      "source": [
        "## Dictionary\n",
        "\n",
        "versatile and mutable data type,\n",
        "\n",
        "use to store key , value pairs"
      ],
      "metadata": {
        "id": "ZxgaMj8fF7mj"
      }
    },
    {
      "cell_type": "code",
      "source": [
        "x = {'number':900,'name':'kavinda','age':75,'city':'Alawwa'}"
      ],
      "metadata": {
        "id": "xKtSqQ20FrKv"
      },
      "execution_count": null,
      "outputs": []
    },
    {
      "cell_type": "code",
      "source": [
        "x['number']"
      ],
      "metadata": {
        "colab": {
          "base_uri": "https://localhost:8080/"
        },
        "id": "7090ksAgIZ6M",
        "outputId": "49b7867d-6608-4417-bbd8-fe33f23d3527"
      },
      "execution_count": null,
      "outputs": [
        {
          "output_type": "execute_result",
          "data": {
            "text/plain": [
              "900"
            ]
          },
          "metadata": {},
          "execution_count": 61
        }
      ]
    },
    {
      "cell_type": "code",
      "source": [
        "x['number'] = 1000\n",
        "print(x)"
      ],
      "metadata": {
        "colab": {
          "base_uri": "https://localhost:8080/"
        },
        "id": "PTIWeW6tIeuI",
        "outputId": "fd9144cc-a92e-4448-8647-c87ee686f030"
      },
      "execution_count": null,
      "outputs": [
        {
          "output_type": "stream",
          "name": "stdout",
          "text": [
            "{'number': 1000, 'name': 'kavinda', 'age': 75, 'city': 'Alawwa'}\n"
          ]
        }
      ]
    },
    {
      "cell_type": "code",
      "source": [
        "len(x)"
      ],
      "metadata": {
        "colab": {
          "base_uri": "https://localhost:8080/"
        },
        "id": "VwdaIimbIjJ5",
        "outputId": "4699a027-457a-4a9a-9232-6011af7f3111"
      },
      "execution_count": null,
      "outputs": [
        {
          "output_type": "execute_result",
          "data": {
            "text/plain": [
              "4"
            ]
          },
          "metadata": {},
          "execution_count": 63
        }
      ]
    },
    {
      "cell_type": "code",
      "source": [
        "x.keys()"
      ],
      "metadata": {
        "colab": {
          "base_uri": "https://localhost:8080/"
        },
        "id": "ReGcMmBnInvx",
        "outputId": "25272a06-4028-4759-8274-058d67ffb2e2"
      },
      "execution_count": null,
      "outputs": [
        {
          "output_type": "execute_result",
          "data": {
            "text/plain": [
              "dict_keys(['number', 'name', 'age', 'city'])"
            ]
          },
          "metadata": {},
          "execution_count": 64
        }
      ]
    },
    {
      "cell_type": "code",
      "source": [
        "x.values()"
      ],
      "metadata": {
        "colab": {
          "base_uri": "https://localhost:8080/"
        },
        "id": "uDxJ2Je7IqVa",
        "outputId": "afcac6d6-9028-4489-f9e1-25c2e876ab99"
      },
      "execution_count": null,
      "outputs": [
        {
          "output_type": "execute_result",
          "data": {
            "text/plain": [
              "dict_values([1000, 'kavinda', 75, 'Alawwa'])"
            ]
          },
          "metadata": {},
          "execution_count": 65
        }
      ]
    },
    {
      "cell_type": "markdown",
      "source": [
        "## Python Sets\n",
        "\n",
        "collection of unique elements only and do not allow duplicate elements, and order of element not preserved."
      ],
      "metadata": {
        "id": "LHZoTCKOI8rp"
      }
    },
    {
      "cell_type": "code",
      "source": [
        "x ={10,20,32,'hello',True}\n",
        "print(x)"
      ],
      "metadata": {
        "colab": {
          "base_uri": "https://localhost:8080/"
        },
        "id": "JbOcVx70ItJR",
        "outputId": "5507372d-109b-454c-dc5c-5e8d7d9151b6"
      },
      "execution_count": null,
      "outputs": [
        {
          "output_type": "stream",
          "name": "stdout",
          "text": [
            "{32, 'hello', True, 20, 10}\n"
          ]
        }
      ]
    },
    {
      "cell_type": "code",
      "source": [
        "x ={10,20,32,'hello',True,True}\n",
        "print(x)"
      ],
      "metadata": {
        "colab": {
          "base_uri": "https://localhost:8080/"
        },
        "id": "x99nvt8ZP_dR",
        "outputId": "48faa620-f235-4afa-83da-69ac0667d159"
      },
      "execution_count": null,
      "outputs": [
        {
          "output_type": "stream",
          "name": "stdout",
          "text": [
            "{32, 'hello', True, 20, 10}\n"
          ]
        }
      ]
    },
    {
      "cell_type": "code",
      "source": [
        "# x[0]\n",
        "# x[0:3]\n",
        "\n",
        "len(x)"
      ],
      "metadata": {
        "colab": {
          "base_uri": "https://localhost:8080/"
        },
        "id": "W7G6VzNHQKug",
        "outputId": "411880b8-b332-4fcb-ecbf-f8a1d9c47a67"
      },
      "execution_count": null,
      "outputs": [
        {
          "output_type": "execute_result",
          "data": {
            "text/plain": [
              "5"
            ]
          },
          "metadata": {},
          "execution_count": 68
        }
      ]
    },
    {
      "cell_type": "markdown",
      "source": [
        "## Casting\n",
        "\n",
        "Casting in Python refers to the process of converting one data type into another\n",
        "\n",
        "*   Implicit Casting\n",
        "*   Explicit Casting\n",
        "\n"
      ],
      "metadata": {
        "id": "v1wc1gEzokig"
      }
    },
    {
      "cell_type": "code",
      "source": [
        "#implicit casting\n",
        "2*1.5\n",
        "# result is float number, take auto as float"
      ],
      "metadata": {
        "id": "uLOlllYPQa9V",
        "colab": {
          "base_uri": "https://localhost:8080/"
        },
        "outputId": "3c8b0493-e8f8-4d43-81ea-833683d971c7"
      },
      "execution_count": null,
      "outputs": [
        {
          "output_type": "execute_result",
          "data": {
            "text/plain": [
              "3.0"
            ]
          },
          "metadata": {},
          "execution_count": 69
        }
      ]
    },
    {
      "cell_type": "code",
      "source": [
        "# Explicit casting\n",
        "\n",
        "float_numher = 3.014\n",
        "integer_number = int(float_numher)\n",
        "print(integer_number)"
      ],
      "metadata": {
        "id": "mUlhopx1Qe9x",
        "colab": {
          "base_uri": "https://localhost:8080/"
        },
        "outputId": "62a2ac7c-9cee-45c1-9c4d-5601973353af"
      },
      "execution_count": null,
      "outputs": [
        {
          "output_type": "stream",
          "name": "stdout",
          "text": [
            "3\n"
          ]
        }
      ]
    },
    {
      "cell_type": "code",
      "source": [
        "integer_number = 42\n",
        "float_numher = float(integer_number)\n",
        "print(float_numher)"
      ],
      "metadata": {
        "id": "6CDn37dXQgcB",
        "colab": {
          "base_uri": "https://localhost:8080/"
        },
        "outputId": "52f4a1e7-96d7-421b-eee9-7ecb9236c635"
      },
      "execution_count": null,
      "outputs": [
        {
          "output_type": "stream",
          "name": "stdout",
          "text": [
            "42.0\n"
          ]
        }
      ]
    },
    {
      "cell_type": "code",
      "source": [
        "number = 123\n",
        "string_number = str(number)\n",
        "string_number\n",
        "print(type(string_number))"
      ],
      "metadata": {
        "colab": {
          "base_uri": "https://localhost:8080/"
        },
        "id": "pq-HHKcc2FMs",
        "outputId": "3c942875-1349-4b7e-e25b-85f8b23582db"
      },
      "execution_count": null,
      "outputs": [
        {
          "output_type": "stream",
          "name": "stdout",
          "text": [
            "<class 'str'>\n"
          ]
        }
      ]
    },
    {
      "cell_type": "code",
      "source": [
        "my_tuple = (1,2,3)\n",
        "list_from_tuple = list(my_tuple)\n",
        "list_from_tuple"
      ],
      "metadata": {
        "colab": {
          "base_uri": "https://localhost:8080/"
        },
        "id": "0RYugI072noR",
        "outputId": "651b48c1-2d65-4c25-b615-232fc6d1a03e"
      },
      "execution_count": null,
      "outputs": [
        {
          "output_type": "execute_result",
          "data": {
            "text/plain": [
              "[1, 2, 3]"
            ]
          },
          "metadata": {},
          "execution_count": 73
        }
      ]
    },
    {
      "cell_type": "code",
      "source": [
        "my_list = [1,2,3]\n",
        "tuple_from_list = tuple(my_list)\n",
        "tuple_from_list"
      ],
      "metadata": {
        "colab": {
          "base_uri": "https://localhost:8080/"
        },
        "id": "epcCJwmv34FO",
        "outputId": "f482e720-b041-4358-83db-f09d2817d845"
      },
      "execution_count": null,
      "outputs": [
        {
          "output_type": "execute_result",
          "data": {
            "text/plain": [
              "(1, 2, 3)"
            ]
          },
          "metadata": {},
          "execution_count": 74
        }
      ]
    },
    {
      "cell_type": "code",
      "source": [
        "my_list = [1,2,3,3,4,1,2]\n",
        "list_from_set = set(my_list)\n",
        "list_from_set"
      ],
      "metadata": {
        "colab": {
          "base_uri": "https://localhost:8080/"
        },
        "id": "WyRJnpFj4Gan",
        "outputId": "3f7a86b0-069b-4df4-d12a-fdb5b7b1f978"
      },
      "execution_count": null,
      "outputs": [
        {
          "output_type": "execute_result",
          "data": {
            "text/plain": [
              "{1, 2, 3, 4}"
            ]
          },
          "metadata": {},
          "execution_count": 75
        }
      ]
    },
    {
      "cell_type": "markdown",
      "source": [
        "## Read the input from user\n",
        "\n",
        "* in python use the input() function to read input from the user.\n",
        "* input() function takes a string as an argument"
      ],
      "metadata": {
        "id": "spcgYycc4Y8V"
      }
    },
    {
      "cell_type": "code",
      "source": [
        "# user_input = input(\"Enter the value to store: \")\n",
        "# print(\"output is\",user_input)"
      ],
      "metadata": {
        "colab": {
          "base_uri": "https://localhost:8080/"
        },
        "id": "C-UJCs5d4YOo",
        "outputId": "fb7b21c3-f6a1-4777-865d-5a35a95eb823"
      },
      "execution_count": null,
      "outputs": [
        {
          "output_type": "stream",
          "name": "stdout",
          "text": [
            "Enter the value to store: 300\n",
            "output is 300\n"
          ]
        }
      ]
    },
    {
      "cell_type": "code",
      "source": [
        "# print(\"output Type: \", type(user_input))"
      ],
      "metadata": {
        "colab": {
          "base_uri": "https://localhost:8080/"
        },
        "id": "4xzR65LL53CM",
        "outputId": "c90225e5-dbee-48c4-a838-84fe6d306d8e"
      },
      "execution_count": null,
      "outputs": [
        {
          "output_type": "stream",
          "name": "stdout",
          "text": [
            "output Type:  <class 'str'>\n"
          ]
        }
      ]
    },
    {
      "cell_type": "code",
      "source": [
        "# user_input_1 = int(input(\"Enter the number 1: \"))\n",
        "# user_input_2 = int(input(\"Enter the number 2: \"))\n",
        "# s = user_input_1 + user_input_2\n",
        "# print(s)"
      ],
      "metadata": {
        "colab": {
          "base_uri": "https://localhost:8080/"
        },
        "id": "YJF5VcIX5_Vg",
        "outputId": "61a22355-9ec7-4e4e-e102-fd195d63d9da"
      },
      "execution_count": null,
      "outputs": [
        {
          "output_type": "stream",
          "name": "stdout",
          "text": [
            "Enter the number 1: 200\n",
            "Enter the number 2: 400\n",
            "600\n"
          ]
        }
      ]
    },
    {
      "cell_type": "markdown",
      "source": [
        "## String Formating\n",
        "\n",
        "Staring formating in Python refers to the ways in which you can create string with dynamic content, incorporating variables, expressions or values within a string\n",
        "\n",
        "*   Dot method\n",
        "*  f - string method\n",
        "\n"
      ],
      "metadata": {
        "id": "28TI2Rzc_uNW"
      }
    },
    {
      "cell_type": "code",
      "source": [
        "x =10\n",
        "y=20\n",
        "s= x+y\n",
        "\n",
        "#str.format()\n",
        "message = \"the first number is {}, the second number is {}, and sum is {}\".format(x,y,s)\n",
        "print(message)"
      ],
      "metadata": {
        "colab": {
          "base_uri": "https://localhost:8080/"
        },
        "id": "yvUHviSA8jnt",
        "outputId": "85195dab-6a8f-44f6-8b14-9b3dc76eb116"
      },
      "execution_count": null,
      "outputs": [
        {
          "output_type": "stream",
          "name": "stdout",
          "text": [
            "the first number is 10, the second number is 20, and sum is 30\n"
          ]
        }
      ]
    },
    {
      "cell_type": "code",
      "source": [
        "#F-string\n",
        "\n",
        "message = f\"the first number is {x}, the second number is {y}, and sum is {s}\"\n",
        "print(message)"
      ],
      "metadata": {
        "colab": {
          "base_uri": "https://localhost:8080/"
        },
        "id": "JOFMj3YKBZ7c",
        "outputId": "291a790e-1930-4ea7-d89b-1526a8263159"
      },
      "execution_count": null,
      "outputs": [
        {
          "output_type": "stream",
          "name": "stdout",
          "text": [
            "the first number is 10, the second number is 20, and sum is 30\n"
          ]
        }
      ]
    },
    {
      "cell_type": "markdown",
      "source": [
        "## Control Statements in Python\n",
        "\n",
        "\n",
        "*   Conditional Statements\n",
        "*   Looping Statements\n",
        "\n",
        "Allow you to execute different blocks of code based on whether a specified condition eveluatesd to 'True' of 'False'. - 'if' 'else' and 'elif'\n",
        "\n"
      ],
      "metadata": {
        "id": "SavUrCwVHg3_"
      }
    },
    {
      "cell_type": "code",
      "source": [
        "## if elif and else\n",
        "\n",
        "x =0\n",
        "if x>0:\n",
        "  print(\"x greter than 0\")\n",
        "elif x==0:\n",
        "  print(\"x is equal to 0\")\n",
        "else:\n",
        "  print(\"x is less than 0\")"
      ],
      "metadata": {
        "colab": {
          "base_uri": "https://localhost:8080/"
        },
        "id": "GiX-ZeYBHkXw",
        "outputId": "49791d61-cc6f-4a5d-91fb-aa03d066313d"
      },
      "execution_count": null,
      "outputs": [
        {
          "output_type": "stream",
          "name": "stdout",
          "text": [
            "x is equal to 0\n"
          ]
        }
      ]
    },
    {
      "cell_type": "markdown",
      "source": [
        "### Loops\n",
        "\n",
        "\n",
        "\n",
        "1.   for loop - the for loop is used for iterating over a sequence (such as list, tuple, string or range) or other iterable object\n",
        "2.   while loop - the while loop is used to repeatedly execute a block of code as long as a specified condition is True\n",
        "\n",
        "\n"
      ],
      "metadata": {
        "id": "viYphUXmJ7RW"
      }
    },
    {
      "cell_type": "code",
      "source": [
        "fruits = [\"apple\",\"banana\",\"orange\"]\n",
        "\n",
        "for i in fruits:\n",
        "  print(\"Something\")\n",
        "  print(i)"
      ],
      "metadata": {
        "colab": {
          "base_uri": "https://localhost:8080/"
        },
        "id": "iQCsga2wKgoM",
        "outputId": "c6ad6c08-500c-4506-ecfd-b507195da74d"
      },
      "execution_count": null,
      "outputs": [
        {
          "output_type": "stream",
          "name": "stdout",
          "text": [
            "Something\n",
            "apple\n",
            "Something\n",
            "banana\n",
            "Something\n",
            "orange\n"
          ]
        }
      ]
    },
    {
      "cell_type": "code",
      "source": [
        "x= 0\n",
        "\n",
        "while x < 3 :\n",
        "  print(x)\n",
        "  x +=1\n"
      ],
      "metadata": {
        "colab": {
          "base_uri": "https://localhost:8080/"
        },
        "id": "LwQhU5KdI10v",
        "outputId": "b73da1b1-18eb-4174-adc1-5fd959023f07"
      },
      "execution_count": null,
      "outputs": [
        {
          "output_type": "stream",
          "name": "stdout",
          "text": [
            "0\n",
            "1\n",
            "2\n"
          ]
        }
      ]
    },
    {
      "cell_type": "markdown",
      "source": [
        "### Break\n",
        "\n",
        "The break statement is used to exit the loop prematurely"
      ],
      "metadata": {
        "id": "0nCClKmiJPNW"
      }
    },
    {
      "cell_type": "code",
      "source": [
        "fruits = [\"apple\",\"banana\",\"orange\"]\n",
        "\n",
        "for i in fruits:\n",
        "  print(\"Something\")\n",
        "  print(i)\n",
        "  if i == \"banana\":\n",
        "    break;"
      ],
      "metadata": {
        "colab": {
          "base_uri": "https://localhost:8080/"
        },
        "id": "q5oWeIKdJR6i",
        "outputId": "b21984f7-d9f6-4c41-f2be-56f8d05031fe"
      },
      "execution_count": null,
      "outputs": [
        {
          "output_type": "stream",
          "name": "stdout",
          "text": [
            "Something\n",
            "apple\n",
            "Something\n",
            "banana\n"
          ]
        }
      ]
    },
    {
      "cell_type": "markdown",
      "source": [
        "### Continue\n",
        "\n",
        "The continue statement is used to skip the rest of the code inside the loop for current iteration and move to the next iteration"
      ],
      "metadata": {
        "id": "RYavS8maLiTc"
      }
    },
    {
      "cell_type": "code",
      "source": [
        "fruits = [\"apple\",\"banana\",\"orange\",\"grap\"]\n",
        "\n",
        "for i in fruits:\n",
        "  print(\"Something\")\n",
        "\n",
        "  if i == \"banana\":\n",
        "    continue\n",
        "  print(i)"
      ],
      "metadata": {
        "colab": {
          "base_uri": "https://localhost:8080/"
        },
        "id": "AUe5nQjcLhes",
        "outputId": "1600d178-b1f0-4273-891f-dfd337789150"
      },
      "execution_count": null,
      "outputs": [
        {
          "output_type": "stream",
          "name": "stdout",
          "text": [
            "Something\n",
            "apple\n",
            "Something\n",
            "Something\n",
            "orange\n",
            "Something\n",
            "grap\n"
          ]
        }
      ]
    },
    {
      "cell_type": "markdown",
      "source": [
        "## List Comprehension\n",
        "\n",
        "new_list =[expression for i in iterable if condition]"
      ],
      "metadata": {
        "id": "JqD4UC6CMoCU"
      }
    },
    {
      "cell_type": "code",
      "source": [
        "x= [1,2,3,4,5,6,7]\n",
        "\n",
        "result = []\n",
        "\n",
        "for i in x:\n",
        "  result.append(i**2)\n",
        "print(result)\n",
        "\n"
      ],
      "metadata": {
        "colab": {
          "base_uri": "https://localhost:8080/"
        },
        "id": "FVY-mbT_O9kk",
        "outputId": "5bd70580-489e-450b-9a60-6a5e7f0249ca"
      },
      "execution_count": null,
      "outputs": [
        {
          "output_type": "stream",
          "name": "stdout",
          "text": [
            "[1, 4, 9, 16, 25, 36, 49]\n"
          ]
        }
      ]
    },
    {
      "cell_type": "code",
      "source": [
        "result = [i**2 for i in x]\n",
        "print(result)"
      ],
      "metadata": {
        "colab": {
          "base_uri": "https://localhost:8080/"
        },
        "id": "3B0pI_MoU1kN",
        "outputId": "7833f65c-25a4-4661-adfd-49235948757a"
      },
      "execution_count": null,
      "outputs": [
        {
          "output_type": "stream",
          "name": "stdout",
          "text": [
            "[1, 4, 9, 16, 25, 36, 49]\n"
          ]
        }
      ]
    },
    {
      "cell_type": "code",
      "source": [
        "# I only need even number\n",
        "\n",
        "result = [i**2 for i in x if i%2 == 0]\n",
        "print(result)\n"
      ],
      "metadata": {
        "colab": {
          "base_uri": "https://localhost:8080/"
        },
        "id": "-aa68uzfVn_P",
        "outputId": "c1423c13-1831-4e9e-cc71-12275f36f57c"
      },
      "execution_count": null,
      "outputs": [
        {
          "output_type": "stream",
          "name": "stdout",
          "text": [
            "[4, 16, 36]\n"
          ]
        }
      ]
    },
    {
      "cell_type": "markdown",
      "source": [
        "## Functions in Python\n",
        "\n",
        "Group of Statements that performas a specific task\n",
        "\n",
        "\n",
        "def function_name(parameters):\n",
        "statement(s)"
      ],
      "metadata": {
        "id": "-EPScuMGWzni"
      }
    },
    {
      "cell_type": "code",
      "source": [
        "# pre build functions\n",
        "x= [1,2,3,4,5,6,7]\n",
        "len(x)\n",
        "x.append(8)\n",
        "print(x)"
      ],
      "metadata": {
        "colab": {
          "base_uri": "https://localhost:8080/"
        },
        "id": "1Qv-Tq2VW8oz",
        "outputId": "7c798d0e-e857-484f-8c64-fc30f86cfd70"
      },
      "execution_count": null,
      "outputs": [
        {
          "output_type": "stream",
          "name": "stdout",
          "text": [
            "[1, 2, 3, 4, 5, 6, 7, 8]\n"
          ]
        }
      ]
    },
    {
      "cell_type": "code",
      "source": [
        "def greet(name):\n",
        "  print(f\"Hello {name}!!\")"
      ],
      "metadata": {
        "id": "6cq-GccenBgy"
      },
      "execution_count": null,
      "outputs": []
    },
    {
      "cell_type": "code",
      "source": [
        "greet(\"Kavinda\")"
      ],
      "metadata": {
        "colab": {
          "base_uri": "https://localhost:8080/"
        },
        "id": "EUpyV9usncwi",
        "outputId": "7aafa618-215c-4ed0-ab7c-f090e45d8ed6"
      },
      "execution_count": null,
      "outputs": [
        {
          "output_type": "stream",
          "name": "stdout",
          "text": [
            "Hello Kavinda!!\n"
          ]
        }
      ]
    },
    {
      "cell_type": "code",
      "source": [
        "# Create function\n",
        "def add_numbers(a,b):\n",
        "  result= a+b\n",
        "  return result\n"
      ],
      "metadata": {
        "id": "xEcXjAWpoGuB"
      },
      "execution_count": null,
      "outputs": []
    },
    {
      "cell_type": "code",
      "source": [
        "value = add_numbers(10,20)\n",
        "print(value)"
      ],
      "metadata": {
        "colab": {
          "base_uri": "https://localhost:8080/"
        },
        "id": "IRvi56UEpJep",
        "outputId": "51cca11a-8ffd-42c8-9071-e45c6ea4b90e"
      },
      "execution_count": null,
      "outputs": [
        {
          "output_type": "stream",
          "name": "stdout",
          "text": [
            "30\n"
          ]
        }
      ]
    },
    {
      "cell_type": "code",
      "source": [
        "value = add_numbers(b=10,a=20)\n",
        "print(value)"
      ],
      "metadata": {
        "colab": {
          "base_uri": "https://localhost:8080/"
        },
        "id": "5iMuBox4pla5",
        "outputId": "07472a5c-9e52-498e-f85f-baebf9ba4eb9"
      },
      "execution_count": null,
      "outputs": [
        {
          "output_type": "stream",
          "name": "stdout",
          "text": [
            "30\n"
          ]
        }
      ]
    },
    {
      "cell_type": "code",
      "source": [
        "def add_numbers(a,b=25):\n",
        "  result= a+b\n",
        "  return result"
      ],
      "metadata": {
        "id": "ccrNOyokqx5a"
      },
      "execution_count": null,
      "outputs": []
    },
    {
      "cell_type": "code",
      "source": [
        "value = add_numbers(25)\n",
        "print(value)"
      ],
      "metadata": {
        "colab": {
          "base_uri": "https://localhost:8080/"
        },
        "id": "6Nu0xyzlvFd-",
        "outputId": "119f8c1b-1703-42ac-922d-5ee39fdfd802"
      },
      "execution_count": null,
      "outputs": [
        {
          "output_type": "stream",
          "name": "stdout",
          "text": [
            "50\n"
          ]
        }
      ]
    },
    {
      "cell_type": "markdown",
      "source": [
        "## Modules in Python\n",
        "\n",
        "\n",
        "\n",
        "*  A Module is a file containing the python defines and statements\n",
        "*  Modules are the files with .py extension\n",
        "\n",
        "* Helps us to logically organize the code\n"
      ],
      "metadata": {
        "id": "tgzZY645vwjZ"
      }
    },
    {
      "cell_type": "code",
      "source": [
        "# pre build module\n",
        "\n",
        "import math\n",
        "\n",
        "math.sqrt(100)"
      ],
      "metadata": {
        "colab": {
          "base_uri": "https://localhost:8080/"
        },
        "id": "k7nPWcBBwK_p",
        "outputId": "b4613c85-daa5-4836-c65a-5437af946bcd"
      },
      "execution_count": null,
      "outputs": [
        {
          "output_type": "execute_result",
          "data": {
            "text/plain": [
              "10.0"
            ]
          },
          "metadata": {},
          "execution_count": 104
        }
      ]
    },
    {
      "cell_type": "markdown",
      "source": [
        "## Classes and Objects in Python\n",
        "\n",
        "\n",
        "*   Object Oriented Programming\n",
        "\n",
        "there are four things\n",
        "\n",
        "* Classes - blueprint or prototype from which objects are created.\n",
        "* Objects - An instance a of class- with values.\n",
        "* Class Attributes - properties of an Object\n",
        "* Class Methods - Reflects the Behavior of Objects\n",
        "\n",
        "Constracture - initializer, special method that we use it whenever we are creating an object. it execute whenever I create a class.\n",
        "\n",
        "self - basically instance of the class, whenever I am crating any method, self is mandatory, and it is a first parameter in every method.\n"
      ],
      "metadata": {
        "id": "mxco2Lugrh0p"
      }
    },
    {
      "cell_type": "code",
      "source": [
        "class MyClass:\n",
        "\n",
        "  #class variable\n",
        "  class_variable = \"I am a class variable\"\n",
        "\n",
        "  #Constarutor(initilizer) method\n",
        "  def __init__(self,attribute1,attribute2):\n",
        "    #instance variable\n",
        "    self.attribute1 = attribute1\n",
        "    self.attribute2 = attribute2\n",
        "\n",
        "#instance method\n",
        "  def display_attribute(self):\n",
        "    print(f\"Attribute 1 :{self.attribute1}\")\n",
        "    print(f\"Attribute 2 :{self.attribute2}\")\n",
        "\n",
        "# another instance method\n",
        "\n",
        "  def moidfy_attributes(self, new_value1, new_value2):\n",
        "    self.attribute1 = new_value1\n",
        "    self.attribute2 = new_value2\n",
        ""
      ],
      "metadata": {
        "id": "pV6miY5Yyhdh"
      },
      "execution_count": 2,
      "outputs": []
    },
    {
      "cell_type": "markdown",
      "source": [
        "### Create Objects from Class"
      ],
      "metadata": {
        "id": "B09zE06361wO"
      }
    },
    {
      "cell_type": "code",
      "source": [
        "obj_1 = MyClass(\"Value01\",\"Value02\")\n",
        "obj_2 = MyClass(\"AnotherValue1\",\"AnotherValue2\")\n",
        "\n",
        "obj_1.display_attribute()"
      ],
      "metadata": {
        "colab": {
          "base_uri": "https://localhost:8080/"
        },
        "id": "obaOZDrg65mb",
        "outputId": "d41b016c-9bfb-4b73-fee2-e613d55753a3"
      },
      "execution_count": 4,
      "outputs": [
        {
          "output_type": "stream",
          "name": "stdout",
          "text": [
            "Attribute 1 :Value01\n",
            "Attribute 2 :Value02\n"
          ]
        }
      ]
    },
    {
      "cell_type": "code",
      "source": [
        "obj_1.moidfy_attributes(\"NewValue01\",\"NewValue02\")\n",
        "obj_1.display_attribute()"
      ],
      "metadata": {
        "colab": {
          "base_uri": "https://localhost:8080/"
        },
        "id": "ElpI1zzp8GXf",
        "outputId": "c88dd06b-54dc-4c53-e3e6-43f1913f705d"
      },
      "execution_count": 6,
      "outputs": [
        {
          "output_type": "stream",
          "name": "stdout",
          "text": [
            "Attribute 1 :NewValue01\n",
            "Attribute 2 :NewValue02\n"
          ]
        }
      ]
    },
    {
      "cell_type": "code",
      "source": [
        "class MyClass:\n",
        "\n",
        "  #class variable\n",
        "  class_variable = \"I am a class variable\"\n",
        "\n",
        "  #Constarutor(initilizer) method\n",
        "  def __init__(self,attribute1,attribute2):\n",
        "    #instance variable\n",
        "    self.attribute1 = attribute1\n",
        "    self.attribute2 = attribute2\n",
        "\n",
        "#instance method\n",
        "  def display_attribute(self):\n",
        "    print(f\"Attribute 1 :{self.attribute1}\")\n",
        "    print(f\"Attribute 2 :{self.attribute2}\")\n",
        "\n",
        "# another instance method\n",
        "\n",
        "  def moidfy_attributes(self, new_value1, new_value2):\n",
        "    self.attribute1 = new_value1\n",
        "    self.attribute2 = new_value2\n",
        ""
      ],
      "metadata": {
        "id": "FGgBaPpV8ap6"
      },
      "execution_count": null,
      "outputs": []
    },
    {
      "cell_type": "markdown",
      "source": [
        "## File Handing in Python\n",
        "\n",
        "**fileobj = open(fileName,mode)**\n",
        "\n",
        "If I want to open any file, use inbuild function call as *open*\n",
        "\n",
        "*   fileobj - file object returned by open()\n",
        "*   Filename - String name of the file\n",
        "* mode - string indicating the file's type and what we want to perform\n",
        "\n",
        "First Letter of mode indicates the operation\n",
        "\n",
        "* **r** - means read\n",
        "* **w** - mean write. if the file doesnt exist, it will be cretaed. if already exists it will be over-written.\n",
        "* **x** means write, but only file doesnt exist\n",
        "* **a** means append(Write after the end) if the file exist.\n",
        "\n",
        "\n",
        "Second letter of mode is file's type:\n",
        "\n",
        "* t(or nothing) means text\n",
        "* b means binary\n",
        "\n",
        "close file once write is complete. **fileobj.close()**"
      ],
      "metadata": {
        "id": "bC_t593g87EE"
      }
    },
    {
      "cell_type": "code",
      "source": [
        "fileObj = open(\"Example.text\",\"wt\")\n",
        "\n",
        "#Because \"w\" for write, and \"t\" for text are the default values\n",
        "fileObj.close()"
      ],
      "metadata": {
        "id": "w0fzffjRDEGm"
      },
      "execution_count": 7,
      "outputs": []
    },
    {
      "cell_type": "code",
      "source": [
        "exmaple_text = \"\"\" fileobj = open(fileName,mode)\n",
        "\n",
        "If I want to open any file, use inbuild function call as open\n",
        "\n",
        "fileobj - file object returned by open()\n",
        "Filename - String name of the file\n",
        "mode - string indicating the file's type and what we want to perform\n",
        "First Letter of mode indicates the operation\n",
        "\n",
        "r - means read\n",
        "w - mean write. if the file doesnt exist, it will be cretaed. if already exists it will be over-written.\n",
        "x means write, but only file doesnt exist\n",
        "a means append(Write after the end) if the file exist.\n",
        "Second letter of mode is file's type:\n",
        "\n",
        "t(or nothing) means text\n",
        "b means binary\n",
        "close file once write is complete. fileobj.close() \"\"\""
      ],
      "metadata": {
        "id": "0S_Fr1kgDfw3"
      },
      "execution_count": 8,
      "outputs": []
    },
    {
      "cell_type": "code",
      "source": [
        "fileObj = open(\"Example.text\",\"wt\")\n",
        "\n",
        "fileObj.write(exmaple_text)\n",
        "\n",
        "fileObj.close()"
      ],
      "metadata": {
        "id": "eohaFYlkEFjP"
      },
      "execution_count": 10,
      "outputs": []
    },
    {
      "cell_type": "code",
      "source": [
        "#Overrite a file- if have same name\n",
        "\n",
        "fileObj = open(\"Example.text\",\"wt\")\n",
        "\n",
        "fileObj.close()\n"
      ],
      "metadata": {
        "id": "aa5l3xBREHyh"
      },
      "execution_count": 11,
      "outputs": []
    },
    {
      "cell_type": "code",
      "source": [
        "# if use x - that shouldnt be exist the file\n",
        "fileObj = open(\"Example_1.text\",\"wt\")\n",
        "\n",
        "fileObj.close()"
      ],
      "metadata": {
        "id": "cK0qEB0DEq8w"
      },
      "execution_count": 12,
      "outputs": []
    },
    {
      "cell_type": "code",
      "source": [
        "fileObj = open(\"Example.text\",\"wt\")\n",
        "\n",
        "fileObj.write(exmaple_text)\n",
        "\n",
        "fileObj.close()\n",
        "\n"
      ],
      "metadata": {
        "id": "-UXeASasW4fw"
      },
      "execution_count": 19,
      "outputs": []
    },
    {
      "cell_type": "code",
      "source": [
        "fileObj_read = open(\"Example.text\",\"rt\")\n",
        "data = fileObj_read.read()\n",
        "print(data)\n",
        "fileObj.close()"
      ],
      "metadata": {
        "colab": {
          "base_uri": "https://localhost:8080/"
        },
        "id": "8DhHMlTWYoBY",
        "outputId": "7230469d-05ab-46f5-90b2-d9c8abe101e7"
      },
      "execution_count": 20,
      "outputs": [
        {
          "output_type": "stream",
          "name": "stdout",
          "text": [
            " fileobj = open(fileName,mode)\n",
            "\n",
            "If I want to open any file, use inbuild function call as open\n",
            "\n",
            "fileobj - file object returned by open()\n",
            "Filename - String name of the file\n",
            "mode - string indicating the file's type and what we want to perform\n",
            "First Letter of mode indicates the operation\n",
            "\n",
            "r - means read\n",
            "w - mean write. if the file doesnt exist, it will be cretaed. if already exists it will be over-written.\n",
            "x means write, but only file doesnt exist\n",
            "a means append(Write after the end) if the file exist.\n",
            "Second letter of mode is file's type:\n",
            "\n",
            "t(or nothing) means text\n",
            "b means binary\n",
            "close file once write is complete. fileobj.close()\n"
          ]
        }
      ]
    },
    {
      "cell_type": "markdown",
      "source": [
        "## Escape Characters\n",
        "\n",
        "1. \\n : new Line Character\n"
      ],
      "metadata": {
        "id": "NpfJeR_sYtIY"
      }
    },
    {
      "cell_type": "code",
      "source": [
        "print(\"hello \\n world\")"
      ],
      "metadata": {
        "colab": {
          "base_uri": "https://localhost:8080/"
        },
        "id": "FwC_AwQ_Ysx9",
        "outputId": "25415eaf-6eb3-4642-cc4d-d5b961784d9b"
      },
      "execution_count": 21,
      "outputs": [
        {
          "output_type": "stream",
          "name": "stdout",
          "text": [
            "hello \n",
            " world\n"
          ]
        }
      ]
    },
    {
      "cell_type": "markdown",
      "source": [
        "2. tab character :  \\t"
      ],
      "metadata": {
        "id": "u25LmOGlZSX1"
      }
    },
    {
      "cell_type": "code",
      "source": [
        "print(\"hello\\tworld\")"
      ],
      "metadata": {
        "colab": {
          "base_uri": "https://localhost:8080/"
        },
        "id": "M1B_JtOaZR5T",
        "outputId": "ab898e42-ae13-4f58-8018-7d9d3071507b"
      },
      "execution_count": 22,
      "outputs": [
        {
          "output_type": "stream",
          "name": "stdout",
          "text": [
            "hello\tworld\n"
          ]
        }
      ]
    },
    {
      "cell_type": "code",
      "source": [
        "# \\\\ backslash\n",
        "print(\"hello\\\\world\")"
      ],
      "metadata": {
        "colab": {
          "base_uri": "https://localhost:8080/"
        },
        "id": "DxR7qSzFZkKa",
        "outputId": "5692b60e-f60b-469e-ae24-07decfa37060"
      },
      "execution_count": 23,
      "outputs": [
        {
          "output_type": "stream",
          "name": "stdout",
          "text": [
            "hello\\world\n"
          ]
        }
      ]
    },
    {
      "cell_type": "markdown",
      "source": [
        "## Working with Python Scripts\n",
        "\n",
        "script file - it is a file with.py extension\n",
        "\n",
        "run in terminal - python script.py\n",
        "\n"
      ],
      "metadata": {
        "id": "TnOC6ph1Z417"
      }
    },
    {
      "cell_type": "markdown",
      "source": [
        "## Libraries in Python\n",
        "\n",
        "library is a collection of modules that provides pre-witten and reusable code to perform specific tasks"
      ],
      "metadata": {
        "id": "kc_p28e8bEZv"
      }
    },
    {
      "cell_type": "code",
      "source": [
        "#Exmple\n",
        "\n",
        "import pandas as pd\n"
      ],
      "metadata": {
        "id": "_UOmHOodZ8Cy"
      },
      "execution_count": null,
      "outputs": []
    },
    {
      "cell_type": "markdown",
      "source": [
        "## Exception Handling\n",
        "\n",
        "When an error occurs, or exception as we call it, Python will normally stop and generate an error message.\n",
        "\n",
        "These exceptions can be handled using the try statement:\n",
        "\n",
        "* The try block lets you test a block of code for errors.\n",
        "\n",
        "* The except block lets you handle the error.\n",
        "\n",
        "* The else block lets you execute code when there is no error.\n",
        "\n",
        "* The finally block lets you execute code, regardless of the result of the try- and except blocks."
      ],
      "metadata": {
        "id": "NRsVJkrceEwk"
      }
    },
    {
      "cell_type": "code",
      "source": [
        "try:\n",
        "  print(d)\n",
        "except:\n",
        "  print(\"Error occurred.!\")"
      ],
      "metadata": {
        "colab": {
          "base_uri": "https://localhost:8080/"
        },
        "id": "U7g1SvyXeOmW",
        "outputId": "c822f2a6-6bcb-4ba6-9730-f35d988199c9"
      },
      "execution_count": 24,
      "outputs": [
        {
          "output_type": "stream",
          "name": "stdout",
          "text": [
            "Error occurred.!\n"
          ]
        }
      ]
    },
    {
      "cell_type": "markdown",
      "source": [
        "### Many Exceptions\n",
        "You can define as many exception blocks as you want, e.g. if you want to execute a special block of code for a special kind of error:"
      ],
      "metadata": {
        "id": "z4AvBIVoe0xE"
      }
    },
    {
      "cell_type": "code",
      "source": [
        "try:\n",
        "  print(x)\n",
        "except NameError:\n",
        "  print(\"Variable x is not defined\")\n",
        "except:\n",
        "  print(\"Something else went wrong\")"
      ],
      "metadata": {
        "colab": {
          "base_uri": "https://localhost:8080/"
        },
        "id": "1vLvoMdieyoA",
        "outputId": "02292c6e-22b5-413c-c286-5d76f8e44df3"
      },
      "execution_count": 25,
      "outputs": [
        {
          "output_type": "stream",
          "name": "stdout",
          "text": [
            "Variable x is not defined\n"
          ]
        }
      ]
    },
    {
      "cell_type": "markdown",
      "source": [
        "### Else\n",
        "You can use the else keyword to define a block of code to be executed if no errors were raised:"
      ],
      "metadata": {
        "id": "W7KJVkolfAdG"
      }
    },
    {
      "cell_type": "code",
      "source": [
        "try:\n",
        "  print(\"Hello\")\n",
        "except:\n",
        "  print(\"Something went wrong\")\n",
        "else:\n",
        "  print(\"Nothing went wrong\")"
      ],
      "metadata": {
        "colab": {
          "base_uri": "https://localhost:8080/"
        },
        "id": "2DBXvgI2e46w",
        "outputId": "e7dbe036-aa41-443f-eab8-c6b53a4acc18"
      },
      "execution_count": 26,
      "outputs": [
        {
          "output_type": "stream",
          "name": "stdout",
          "text": [
            "Hello\n",
            "Nothing went wrong\n"
          ]
        }
      ]
    },
    {
      "cell_type": "markdown",
      "source": [
        "### Finally\n",
        "The finally block, if specified, will be executed regardless if the try block raises an error or not."
      ],
      "metadata": {
        "id": "3qNa5OgDfHgM"
      }
    },
    {
      "cell_type": "code",
      "source": [
        "try:\n",
        "  print(x)\n",
        "except:\n",
        "  print(\"Something went wrong\")\n",
        "finally:\n",
        "  print(\"The 'try except' is finished\")"
      ],
      "metadata": {
        "colab": {
          "base_uri": "https://localhost:8080/"
        },
        "id": "F9To7npYfF-H",
        "outputId": "e16a1a1c-a773-4b67-9504-c7b260290d9f"
      },
      "execution_count": 27,
      "outputs": [
        {
          "output_type": "stream",
          "name": "stdout",
          "text": [
            "Something went wrong\n",
            "The 'try except' is finished\n"
          ]
        }
      ]
    },
    {
      "cell_type": "markdown",
      "source": [
        "### Raise an exception\n",
        "As a Python developer you can choose to throw an exception if a condition occurs.\n",
        "\n",
        "To throw (or raise) an exception, use the raise keyword."
      ],
      "metadata": {
        "id": "6ltYOSqAfYIi"
      }
    },
    {
      "cell_type": "code",
      "source": [
        "x = -1\n",
        "\n",
        "if x < 0:\n",
        "  raise Exception(\"Sorry, no numbers below zero\")"
      ],
      "metadata": {
        "id": "vUQgj0Z4fVPE"
      },
      "execution_count": null,
      "outputs": []
    }
  ]
}